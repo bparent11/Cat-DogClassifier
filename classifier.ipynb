{
 "cells": [
  {
   "cell_type": "code",
   "execution_count": null,
   "metadata": {},
   "outputs": [],
   "source": [
    "import pandas as pd\n",
    "import numpy as np\n",
    "import matplotlib.pyplot as plt"
   ]
  },
  {
   "cell_type": "code",
   "execution_count": null,
   "metadata": {},
   "outputs": [],
   "source": [
    "from PIL import Image"
   ]
  },
  {
   "cell_type": "code",
   "execution_count": null,
   "metadata": {},
   "outputs": [],
   "source": [
    "desired_size = (256, 256)"
   ]
  },
  {
   "cell_type": "code",
   "execution_count": null,
   "metadata": {},
   "outputs": [],
   "source": [
    "import torch\n",
    "from torchvision import io, transforms\n",
    "\n",
    "# Définir la transformation de redimensionnement avec l'interpolation 'nearest'\n",
    "resize_transform = transforms.Resize(desired_size, interpolation=transforms.InterpolationMode.NEAREST)\n",
    "\n",
    "transform = transforms.Compose([\n",
    "    transforms.ToTensor()  # Convertit l'image PIL en tenseur PyTorch\n",
    "]) # normalise directement entre 0 et 1"
   ]
  },
  {
   "cell_type": "code",
   "execution_count": null,
   "metadata": {},
   "outputs": [],
   "source": [
    "from PIL import Image\n",
    "\n",
    "def resize_and_pad(image_path, target_size=(256, 256)):\n",
    "    # Charger l'image\n",
    "    with Image.open(image_path) as img:\n",
    "\n",
    "        if img.mode == \"L\" or img.mode == \"CMYK\":\n",
    "            img = img.convert('RGB')\n",
    "\n",
    "        # Redimensionner l'image en conservant le rapport d'aspect\n",
    "        img.thumbnail(target_size, Image.Resampling.LANCZOS)\n",
    "\n",
    "        # Créer une nouvelle image avec la taille cible et un fond noir\n",
    "        new_img = Image.new(\"RGB\", target_size, (0, 0, 0))\n",
    "\n",
    "        # Calculer les coordonnées pour centrer l'image redimensionnée\n",
    "        left = (target_size[0] - img.size[0]) // 2\n",
    "        top = (target_size[1] - img.size[1]) // 2\n",
    "\n",
    "        # Coller l'image redimensionnée sur la nouvelle image\n",
    "        new_img.paste(img, (left, top))\n",
    "\n",
    "        new_img_tensor = transform(new_img)\n",
    "\n",
    "        return new_img, new_img_tensor"
   ]
  },
  {
   "cell_type": "markdown",
   "metadata": {},
   "source": [
    "---"
   ]
  },
  {
   "cell_type": "markdown",
   "metadata": {},
   "source": [
    "MODEL"
   ]
  },
  {
   "cell_type": "code",
   "execution_count": null,
   "metadata": {},
   "outputs": [],
   "source": [
    "import torchvision.models as models\n",
    "import torch.nn as nn\n",
    "\n",
    "model = models.resnet18(weights=True)\n",
    "num_features = model.fc.in_features\n",
    "dropout_rate = 0.5  # Par exemple, 50% de chance de désactiver chaque neurone\n",
    "model.fc = nn.Sequential(\n",
    "    nn.Dropout(dropout_rate),  # Ajouter la couche de dropout\n",
    "    nn.Linear(num_features, 1)  # Couche finale pour la classification binaire\n",
    ") # 1 for the binary classification"
   ]
  },
  {
   "cell_type": "code",
   "execution_count": null,
   "metadata": {},
   "outputs": [],
   "source": [
    "model.load_state_dict(torch.load(\"best_model.pth\"))\n",
    "model.eval() # I forgot it and that caused me some issues!"
   ]
  },
  {
   "cell_type": "markdown",
   "metadata": {},
   "source": [
    "---"
   ]
  },
  {
   "cell_type": "code",
   "execution_count": null,
   "metadata": {},
   "outputs": [],
   "source": [
    "import os\n",
    "\n",
    "directory_path = 'images'\n",
    "file_names = []\n",
    "\n",
    "nb_images = 0\n",
    "for _, _, files in os.walk(directory_path):\n",
    "    nb_images += len(files)\n",
    "    for file in files:\n",
    "        file_names.append(file)"
   ]
  },
  {
   "cell_type": "code",
   "execution_count": null,
   "metadata": {},
   "outputs": [],
   "source": [
    "nb_images\n",
    "file_names"
   ]
  },
  {
   "cell_type": "code",
   "execution_count": null,
   "metadata": {},
   "outputs": [],
   "source": [
    "fig, axes = plt.subplots(nb_images, figsize=(16, 16))\n",
    "\n",
    "ax = axes.flatten()\n",
    "count = 0\n",
    "\n",
    "for file in file_names:\n",
    "    ax[count].axis('off')\n",
    "    image, image_tensor = resize_and_pad(f\"images/{file}\")\n",
    "    \n",
    "    image_tensor = image_tensor.unsqueeze(0)\n",
    "\n",
    "    proba = model(image_tensor)\n",
    "    proba = torch.sigmoid(proba)\n",
    "\n",
    "    if proba > 0.5:\n",
    "        prediction = \"Dog\"\n",
    "    else:\n",
    "        prediction = \"Cat\"\n",
    "        proba[0][0] = 1 - proba[0][0]\n",
    "\n",
    "    ax[count].set_title(f'This is a {prediction} with {proba.item()*100:.2f}%')\n",
    "\n",
    "    ax[count].imshow(image)\n",
    "\n",
    "    count += 1"
   ]
  },
  {
   "cell_type": "code",
   "execution_count": null,
   "metadata": {},
   "outputs": [],
   "source": []
  }
 ],
 "metadata": {
  "kernelspec": {
   "display_name": "base",
   "language": "python",
   "name": "python3"
  },
  "language_info": {
   "codemirror_mode": {
    "name": "ipython",
    "version": 3
   },
   "file_extension": ".py",
   "mimetype": "text/x-python",
   "name": "python",
   "nbconvert_exporter": "python",
   "pygments_lexer": "ipython3",
   "version": "3.11.5"
  }
 },
 "nbformat": 4,
 "nbformat_minor": 2
}
